{
 "cells": [
  {
   "cell_type": "markdown",
   "metadata": {},
   "source": [
    "## Contents\n",
    "1. Introduction to Programming\n",
    "2. Introduction to Python\n",
    "3. Traditional Data Representation\n",
    "4. Data Representation in Python"
   ]
  },
  {
   "cell_type": "markdown",
   "metadata": {},
   "source": [
    "## Section 1: Introduction to Programming"
   ]
  },
  {
   "cell_type": "markdown",
   "metadata": {},
   "source": [
    "### What is programming?\n",
    "Right now, you are working inside of an **integrated development environment**, or IDE. This is a program that allows you to write, run, and test code. Think of each line of code that you write as an instruction to the computer. When you run the code, the computer will execute each instruction in the order in which it is written.\n",
    "\n",
    "### How do we write code?\n",
    "Every programming language has a set of rules that dictate how code should be written. These rules are called **syntax**. If you don't follow the syntax of a language, the computer will not be able to understand your code. Python is known for having a very simple and easy-to-understand syntax, which is why it is often recommended as a first language for beginners. It is also very powerful and versatile, which is why it is used by many professional developers, particularly in the interdisciplinary fields of data science and machine learning.\n",
    "\n",
    "### How can you get started?\n",
    "This notebook will introduce you to the basics of programming and Python. You will learn how to write and run code, and you will also learn about the different types of data that you can work with in Python. By the end of this notebook, you will be able to write simple programs that can perform calculations and manipulate data. One critical thing to always remember while programming is that **you are in control**. You are the one who decides what the computer should do, and you are the one who tells it how to do it. The computer will only do what you tell it to do, so it is important to be very clear and precise in your instructions. This is also important for debugging purposes."
   ]
  },
  {
   "cell_type": "markdown",
   "metadata": {},
   "source": [
    "## Section 2: Introduction to Python"
   ]
  },
  {
   "cell_type": "markdown",
   "metadata": {},
   "source": [
    "Now that you have a high-level understanding of programming, let's dive into Python. As mentioned above, Python is a very popular programming language that is known for its simplicity and versatility. However, this does not mean it is *easy*. Python is a powerful tool and there are many intracacies and best practices you must learn if you wis to become proficient. Given that the purpose of this course (and our club) is to help you build the skills necessary for data science, we will be skipping many of the Python fundamentals that are not directly related to data science. However, if you are interested in learning more about Python, there are many resources available online, including this free course from [Harvard University](https://www.edx.org/certificates/professional-certificate/harvardx-computer-science-for-python-programming)."
   ]
  },
  {
   "cell_type": "markdown",
   "metadata": {},
   "source": [
    "### Cell Types and Comments"
   ]
  },
  {
   "cell_type": "markdown",
   "metadata": {},
   "source": [
    "In Jupyter notebooks, there are two types of cells: Markdown and Python. Right now, we're in a Markdown cell, so all of the features of Markdown editing work here, including **bolding**, *italicizing*,\n",
    "- bulleting, and\n",
    "###### Headings.\n",
    "\n",
    "In general, Python cells are used to write code and Markdown cells are used to describe the function of Python cells or introduce some additional information to the notebook."
   ]
  },
  {
   "cell_type": "code",
   "execution_count": 1,
   "metadata": {},
   "outputs": [
    {
     "name": "stdout",
     "output_type": "stream",
     "text": [
      "Hello, world!\n"
     ]
    }
   ],
   "source": [
    "# However, sometimes it can be useful to write additional information directly inside of a Python cell. \n",
    "# This is called commenting and is done by adding a # to the beginning of a line in a Python cell.\n",
    "# Sometimes, multiline comments are useful which are marked by a triple quotation\n",
    "\"\"\"\n",
    "here \n",
    "is\n",
    "an\n",
    "example\n",
    "\"\"\"\n",
    "\n",
    "# Comments can also be used to \"disable\" lines of code. For example,\n",
    "print(\"Hello, world!\") # this executes\n",
    "# print(\"Hello, world!\") this does not execute"
   ]
  },
  {
   "cell_type": "markdown",
   "metadata": {},
   "source": [
    "It's also useful to know that Markdown cells cannot be run while Python cells must be run in order for them to \"take effect.\" You can run a cell by clicking the \"Play Arrow\" or hitting Shift + Enter. Finally, please remember that when writing Python code outside of a Jupyter notebook, you must always call ```print()``` to write to the standard output. However, Jupyter will automatically display the last line of each Python cell if possible. Other than rare debugging cases, it is still considered best practice to invoke ```print()``` whenever you want to display a result."
   ]
  },
  {
   "cell_type": "code",
   "execution_count": 2,
   "metadata": {},
   "outputs": [
    {
     "name": "stdout",
     "output_type": "stream",
     "text": [
      "John Doe\n"
     ]
    }
   ],
   "source": [
    "# In normal Python, if I have variable name that stores a string, I'd have to write print(name)\n",
    "name = \"John Doe\"\n",
    "print(name)"
   ]
  },
  {
   "cell_type": "code",
   "execution_count": 3,
   "metadata": {},
   "outputs": [
    {
     "data": {
      "text/plain": [
       "'John Doe'"
      ]
     },
     "execution_count": 3,
     "metadata": {},
     "output_type": "execute_result"
    }
   ],
   "source": [
    "# But in Jupyter, I can simply write the variable as the last line in my cell\n",
    "name"
   ]
  },
  {
   "cell_type": "markdown",
   "metadata": {},
   "source": [
    "### Writing Code"
   ]
  },
  {
   "cell_type": "markdown",
   "metadata": {},
   "source": [
    "Once you know the syntax of a given language, writing code is very simple. All you need to do is translate what you want to happen into syntactically valid instructions. Sometimes, syntax can be very complex. Thankfully, Python's syntax is relatively easy to pick up. For example, if I want to display some text in the output of my cell, I can call the built-in ```print()``` function, as shown below:"
   ]
  },
  {
   "cell_type": "code",
   "execution_count": 4,
   "metadata": {},
   "outputs": [
    {
     "name": "stdout",
     "output_type": "stream",
     "text": [
      "Hello, world!\n"
     ]
    }
   ],
   "source": [
    "print(\"Hello, world!\")"
   ]
  },
  {
   "cell_type": "markdown",
   "metadata": {},
   "source": [
    "### Functions"
   ]
  },
  {
   "cell_type": "markdown",
   "metadata": {},
   "source": [
    "Functions are perhaps the most powerful tool in all of programming because they enable you to write sets of customized instructions for your machine. There are many parts to a function, but let's start with the simplest: the arguments. Arguments may also be called parameters or inputs, but all of these refer to the values that you pass into your function. In other words, these are the operands of your function's operations. Let's use the ```print()``` function as an example."
   ]
  },
  {
   "cell_type": "code",
   "execution_count": 2,
   "metadata": {},
   "outputs": [
    {
     "name": "stdout",
     "output_type": "stream",
     "text": [
      "Hello, world!\n",
      "1\n",
      "[1, 4, 5, 6]\n"
     ]
    }
   ],
   "source": [
    "# In the example above, our argument was the string \"Hello, world!\"\n",
    "print(\"Hello, world!\")\n",
    "\n",
    "# But we can also print a variety of other things.\n",
    "print(1)\n",
    "print([1, 4, 5, 6])"
   ]
  },
  {
   "cell_type": "markdown",
   "metadata": {},
   "source": [
    "In addition to arguments, functions also have definitions. Because ```print()``` is a built-in function, the Python interpreter already knows its definition so we don't need to write one. But let's say you want a function that can add two numbers together. Of course, you could just use the summation operator but let's assume we need to introduce a function for the purpose of this demonstration."
   ]
  },
  {
   "cell_type": "code",
   "execution_count": 5,
   "metadata": {},
   "outputs": [],
   "source": [
    "def add(a: int, b: int) -> int: # here, we name our function and assign variables to our parameters. it's not strictly necessary but we also specify the data types of our parameters and our return type\n",
    "    # result: int = a + b\n",
    "    # return result\n",
    "    return a + b\n",
    "\n",
    "# Question: Is the 'result' variable strictly necessary?"
   ]
  },
  {
   "cell_type": "markdown",
   "metadata": {},
   "source": [
    "Now that we have defined our function, we can call it on any two parameters ```a``` and ```b```, so long as they are both the correct data type."
   ]
  },
  {
   "cell_type": "code",
   "execution_count": 6,
   "metadata": {},
   "outputs": [
    {
     "name": "stdout",
     "output_type": "stream",
     "text": [
      "3\n"
     ]
    }
   ],
   "source": [
    "print(add(1, 2))"
   ]
  },
  {
   "cell_type": "markdown",
   "metadata": {},
   "source": [
    "### Data Types"
   ]
  },
  {
   "cell_type": "markdown",
   "metadata": {},
   "source": [
    "In an actual CS course, a significant amount of time is spent explaining various data types because it is useful for advanced programmers to have a solid foundation in these theoretical concepts. However, for our purposes, you'll only need the basics."
   ]
  },
  {
   "cell_type": "code",
   "execution_count": 7,
   "metadata": {},
   "outputs": [
    {
     "name": "stdout",
     "output_type": "stream",
     "text": [
      "<class 'int'>\n"
     ]
    }
   ],
   "source": [
    "# Integers (int) are numbers\n",
    "number: int = 3\n",
    "print(type(number))"
   ]
  },
  {
   "cell_type": "code",
   "execution_count": 11,
   "metadata": {},
   "outputs": [
    {
     "name": "stdout",
     "output_type": "stream",
     "text": [
      "<class 'str'>\n"
     ]
    }
   ],
   "source": [
    "# Characters (chr) are individual letters/characters\n",
    "character: chr = 'a'\n",
    "print(type(character))"
   ]
  },
  {
   "cell_type": "code",
   "execution_count": 8,
   "metadata": {},
   "outputs": [
    {
     "name": "stdout",
     "output_type": "stream",
     "text": [
      "<class 'str'>\n"
     ]
    }
   ],
   "source": [
    "# As you can see, Python does not have a dedicated char type so instead we use strings (str)\n",
    "string: str = \"this is a sentence\"\n",
    "print(type(string))"
   ]
  },
  {
   "cell_type": "code",
   "execution_count": 13,
   "metadata": {},
   "outputs": [
    {
     "name": "stdout",
     "output_type": "stream",
     "text": [
      "<class 'list'>\n"
     ]
    }
   ],
   "source": [
    "# Arrays (list) are collections of values. Try to keep all values in an array the same data type or at least along one dimension.\n",
    "array: list = [1, 2, 3, 4]\n",
    "print(type(array))"
   ]
  },
  {
   "cell_type": "code",
   "execution_count": 9,
   "metadata": {},
   "outputs": [
    {
     "name": "stdout",
     "output_type": "stream",
     "text": [
      "<class 'set'>\n",
      "{1, 3, 4}\n"
     ]
    }
   ],
   "source": [
    "# Sets (set) are arrays without duplicate elements\n",
    "my_set: set = {1, 3, 4, 4}\n",
    "print(type(my_set))\n",
    "print(my_set)"
   ]
  },
  {
   "cell_type": "code",
   "execution_count": 10,
   "metadata": {},
   "outputs": [
    {
     "name": "stdout",
     "output_type": "stream",
     "text": [
      "<class 'dict'>\n"
     ]
    }
   ],
   "source": [
    "# Dictionaries (dict) are sets of keys and values\n",
    "dictionary: dict = {'a': 1, 'b': 2, 'c': 3}\n",
    "print(type(dictionary))"
   ]
  },
  {
   "cell_type": "code",
   "execution_count": 11,
   "metadata": {},
   "outputs": [
    {
     "name": "stdout",
     "output_type": "stream",
     "text": [
      "<class 'bool'>\n"
     ]
    }
   ],
   "source": [
    "# Booleans (bool) are logic values (either True or False)\n",
    "boolean: bool = True\n",
    "print(type(boolean))\n",
    "\n",
    "# Question: What will happen if I name a variable 'bool'?"
   ]
  },
  {
   "cell_type": "markdown",
   "metadata": {},
   "source": [
    "### Conditional Logic"
   ]
  },
  {
   "cell_type": "markdown",
   "metadata": {},
   "source": [
    "Sometimes it is useful to check if a condition is true before executing a line or multiple lines of code."
   ]
  },
  {
   "cell_type": "code",
   "execution_count": 16,
   "metadata": {},
   "outputs": [
    {
     "name": "stdout",
     "output_type": "stream",
     "text": [
      "Login failed\n"
     ]
    }
   ],
   "source": [
    "login: bool = False\n",
    "if login: \n",
    "    print(\"Access Granted!\")\n",
    "elif not login:\n",
    "    print(\"Login failed\")\n",
    "else:\n",
    "    print(\"This will never execute\")\n",
    "\n",
    "# Question: Why will line 7 never execute?"
   ]
  },
  {
   "cell_type": "markdown",
   "metadata": {},
   "source": [
    "### Loops"
   ]
  },
  {
   "cell_type": "markdown",
   "metadata": {},
   "source": [
    "Some data types are iterable, meaning that you can extract one element at a type and analyze it or call some function on it. The way that we perform these iterations are through loops."
   ]
  },
  {
   "cell_type": "code",
   "execution_count": 13,
   "metadata": {},
   "outputs": [
    {
     "name": "stdout",
     "output_type": "stream",
     "text": [
      "1\n",
      "2\n",
      "3\n",
      "4\n"
     ]
    }
   ],
   "source": [
    "# A for loop will iterate over a specific iterable and look at each element/value\n",
    "array: list = [1, 2, 3, 4]\n",
    "for element in array:\n",
    "    print(element)\n",
    "\n",
    "# Question: What is the difference between the code above and simply calling print(array)"
   ]
  },
  {
   "cell_type": "code",
   "execution_count": 14,
   "metadata": {},
   "outputs": [
    {
     "name": "stdout",
     "output_type": "stream",
     "text": [
      "0\n",
      "1\n",
      "2\n"
     ]
    }
   ],
   "source": [
    "# A while loop will iterate until a certain condition is met\n",
    "i: int = 0\n",
    "while i < 3:\n",
    "    print(i)\n",
    "    i += 1\n",
    "\n",
    "# Question: Would the loop terminate if we moved line 2 after line 3?"
   ]
  },
  {
   "cell_type": "markdown",
   "metadata": {},
   "source": [
    "### Exercises"
   ]
  },
  {
   "cell_type": "markdown",
   "metadata": {},
   "source": [
    "1. Create a new cell and write your name to the standard output.\n",
    "2. Store your name as a string in a variable called 'name.'\n",
    "3. Write a function to reverse your name.\n",
    "4. Call that function and print its output."
   ]
  },
  {
   "cell_type": "code",
   "execution_count": null,
   "metadata": {},
   "outputs": [],
   "source": []
  },
  {
   "cell_type": "markdown",
   "metadata": {},
   "source": [
    "## Section 3: Traditional Data Representation"
   ]
  },
  {
   "cell_type": "markdown",
   "metadata": {},
   "source": [
    "Download the IRIS dataset [here](https://www.kaggle.com/datasets/arshid/iris-flower-dataset) and the Churn dataset [here](https://www.kaggle.com/datasets/blastchar/telco-customer-churn)."
   ]
  },
  {
   "cell_type": "markdown",
   "metadata": {},
   "source": [
    "## Section 4: Data Representation in Python"
   ]
  },
  {
   "cell_type": "code",
   "execution_count": 15,
   "metadata": {},
   "outputs": [
    {
     "name": "stderr",
     "output_type": "stream",
     "text": [
      "/var/folders/p0/n3xwhk1s2hxd2pgk0k7wjbcm0000gn/T/ipykernel_66568/1789844247.py:2: DeprecationWarning: \n",
      "Pyarrow will become a required dependency of pandas in the next major release of pandas (pandas 3.0),\n",
      "(to allow more performant data types, such as the Arrow string type, and better interoperability with other libraries)\n",
      "but was not found to be installed on your system.\n",
      "If this would cause problems for you,\n",
      "please provide us feedback at https://github.com/pandas-dev/pandas/issues/54466\n",
      "        \n",
      "  import pandas as pd\n"
     ]
    }
   ],
   "source": [
    "# Import the pandas package and alias it as pd and the numpy package as np\n",
    "import pandas as pd\n",
    "import numpy as np"
   ]
  },
  {
   "cell_type": "code",
   "execution_count": 16,
   "metadata": {},
   "outputs": [
    {
     "data": {
      "text/html": [
       "<div>\n",
       "<style scoped>\n",
       "    .dataframe tbody tr th:only-of-type {\n",
       "        vertical-align: middle;\n",
       "    }\n",
       "\n",
       "    .dataframe tbody tr th {\n",
       "        vertical-align: top;\n",
       "    }\n",
       "\n",
       "    .dataframe thead th {\n",
       "        text-align: right;\n",
       "    }\n",
       "</style>\n",
       "<table border=\"1\" class=\"dataframe\">\n",
       "  <thead>\n",
       "    <tr style=\"text-align: right;\">\n",
       "      <th></th>\n",
       "      <th>sepal_length</th>\n",
       "      <th>sepal_width</th>\n",
       "      <th>petal_length</th>\n",
       "      <th>petal_width</th>\n",
       "      <th>species</th>\n",
       "    </tr>\n",
       "  </thead>\n",
       "  <tbody>\n",
       "    <tr>\n",
       "      <th>0</th>\n",
       "      <td>5.1</td>\n",
       "      <td>3.5</td>\n",
       "      <td>1.4</td>\n",
       "      <td>0.2</td>\n",
       "      <td>Iris-setosa</td>\n",
       "    </tr>\n",
       "    <tr>\n",
       "      <th>1</th>\n",
       "      <td>4.9</td>\n",
       "      <td>3.0</td>\n",
       "      <td>1.4</td>\n",
       "      <td>0.2</td>\n",
       "      <td>Iris-setosa</td>\n",
       "    </tr>\n",
       "    <tr>\n",
       "      <th>2</th>\n",
       "      <td>4.7</td>\n",
       "      <td>3.2</td>\n",
       "      <td>1.3</td>\n",
       "      <td>0.2</td>\n",
       "      <td>Iris-setosa</td>\n",
       "    </tr>\n",
       "    <tr>\n",
       "      <th>3</th>\n",
       "      <td>4.6</td>\n",
       "      <td>3.1</td>\n",
       "      <td>1.5</td>\n",
       "      <td>0.2</td>\n",
       "      <td>Iris-setosa</td>\n",
       "    </tr>\n",
       "    <tr>\n",
       "      <th>4</th>\n",
       "      <td>5.0</td>\n",
       "      <td>3.6</td>\n",
       "      <td>1.4</td>\n",
       "      <td>0.2</td>\n",
       "      <td>Iris-setosa</td>\n",
       "    </tr>\n",
       "  </tbody>\n",
       "</table>\n",
       "</div>"
      ],
      "text/plain": [
       "   sepal_length  sepal_width  petal_length  petal_width      species\n",
       "0           5.1          3.5           1.4          0.2  Iris-setosa\n",
       "1           4.9          3.0           1.4          0.2  Iris-setosa\n",
       "2           4.7          3.2           1.3          0.2  Iris-setosa\n",
       "3           4.6          3.1           1.5          0.2  Iris-setosa\n",
       "4           5.0          3.6           1.4          0.2  Iris-setosa"
      ]
     },
     "execution_count": 16,
     "metadata": {},
     "output_type": "execute_result"
    }
   ],
   "source": [
    "# Read the csv file\n",
    "IRIS = pd.read_csv(\"./data/IRIS.csv\")\n",
    "IRIS.head()"
   ]
  },
  {
   "cell_type": "code",
   "execution_count": 17,
   "metadata": {},
   "outputs": [
    {
     "name": "stdout",
     "output_type": "stream",
     "text": [
      "['Iris-setosa' 'Iris-versicolor' 'Iris-virginica']\n"
     ]
    }
   ],
   "source": [
    "# Check how many classes of flower we have\n",
    "print(IRIS['species'].unique())"
   ]
  },
  {
   "cell_type": "code",
   "execution_count": 23,
   "metadata": {},
   "outputs": [
    {
     "name": "stdout",
     "output_type": "stream",
     "text": [
      "species\n",
      "Iris-setosa        50\n",
      "Iris-versicolor    50\n",
      "Iris-virginica     50\n",
      "Name: count, dtype: int64\n"
     ]
    }
   ],
   "source": [
    "# Count instances of each flower class\n",
    "print(IRIS['species'].value_counts())"
   ]
  },
  {
   "cell_type": "code",
   "execution_count": 26,
   "metadata": {},
   "outputs": [
    {
     "data": {
      "text/html": [
       "<div>\n",
       "<style scoped>\n",
       "    .dataframe tbody tr th:only-of-type {\n",
       "        vertical-align: middle;\n",
       "    }\n",
       "\n",
       "    .dataframe tbody tr th {\n",
       "        vertical-align: top;\n",
       "    }\n",
       "\n",
       "    .dataframe thead th {\n",
       "        text-align: right;\n",
       "    }\n",
       "</style>\n",
       "<table border=\"1\" class=\"dataframe\">\n",
       "  <thead>\n",
       "    <tr style=\"text-align: right;\">\n",
       "      <th></th>\n",
       "      <th>sepal_length</th>\n",
       "      <th>sepal_width</th>\n",
       "      <th>petal_length</th>\n",
       "      <th>petal_width</th>\n",
       "      <th>species</th>\n",
       "    </tr>\n",
       "  </thead>\n",
       "  <tbody>\n",
       "    <tr>\n",
       "      <th>100</th>\n",
       "      <td>6.3</td>\n",
       "      <td>3.3</td>\n",
       "      <td>6.0</td>\n",
       "      <td>2.5</td>\n",
       "      <td>Iris-virginica</td>\n",
       "    </tr>\n",
       "    <tr>\n",
       "      <th>101</th>\n",
       "      <td>5.8</td>\n",
       "      <td>2.7</td>\n",
       "      <td>5.1</td>\n",
       "      <td>1.9</td>\n",
       "      <td>Iris-virginica</td>\n",
       "    </tr>\n",
       "    <tr>\n",
       "      <th>102</th>\n",
       "      <td>7.1</td>\n",
       "      <td>3.0</td>\n",
       "      <td>5.9</td>\n",
       "      <td>2.1</td>\n",
       "      <td>Iris-virginica</td>\n",
       "    </tr>\n",
       "    <tr>\n",
       "      <th>103</th>\n",
       "      <td>6.3</td>\n",
       "      <td>2.9</td>\n",
       "      <td>5.6</td>\n",
       "      <td>1.8</td>\n",
       "      <td>Iris-virginica</td>\n",
       "    </tr>\n",
       "    <tr>\n",
       "      <th>104</th>\n",
       "      <td>6.5</td>\n",
       "      <td>3.0</td>\n",
       "      <td>5.8</td>\n",
       "      <td>2.2</td>\n",
       "      <td>Iris-virginica</td>\n",
       "    </tr>\n",
       "  </tbody>\n",
       "</table>\n",
       "</div>"
      ],
      "text/plain": [
       "     sepal_length  sepal_width  petal_length  petal_width         species\n",
       "100           6.3          3.3           6.0          2.5  Iris-virginica\n",
       "101           5.8          2.7           5.1          1.9  Iris-virginica\n",
       "102           7.1          3.0           5.9          2.1  Iris-virginica\n",
       "103           6.3          2.9           5.6          1.8  Iris-virginica\n",
       "104           6.5          3.0           5.8          2.2  Iris-virginica"
      ]
     },
     "execution_count": 26,
     "metadata": {},
     "output_type": "execute_result"
    }
   ],
   "source": [
    "# Look only at virginicas\n",
    "IRIS[IRIS['species'] == 'Iris-virginica'].head()"
   ]
  },
  {
   "cell_type": "code",
   "execution_count": 18,
   "metadata": {},
   "outputs": [
    {
     "name": "stdout",
     "output_type": "stream",
     "text": [
      "5.5520000000000005\n"
     ]
    }
   ],
   "source": [
    "# Find the average petal length for all Virginicas\n",
    "print(np.mean(IRIS[IRIS['species'] == 'Iris-virginica']['petal_length']))"
   ]
  },
  {
   "cell_type": "markdown",
   "metadata": {},
   "source": [
    "## Section 5: Exercies"
   ]
  },
  {
   "cell_type": "markdown",
   "metadata": {},
   "source": [
    "1. Complete exercies 1-5 on Kaggle's [introduction to programming](https://www.kaggle.com/learn/intro-to-programming).\n",
    "2. Complete exercises 1-7 on Kaggle's [introduction to Python](https://www.kaggle.com/learn/python).\n",
    "3. Complete exercises 1 and 2 on Kaggle's [introduction to Pandas](https://www.kaggle.com/learn/pandas)."
   ]
  }
 ],
 "metadata": {
  "kernelspec": {
   "display_name": "Python 3",
   "language": "python",
   "name": "python3"
  },
  "language_info": {
   "codemirror_mode": {
    "name": "ipython",
    "version": 3
   },
   "file_extension": ".py",
   "mimetype": "text/x-python",
   "name": "python",
   "nbconvert_exporter": "python",
   "pygments_lexer": "ipython3",
   "version": "3.11.7"
  }
 },
 "nbformat": 4,
 "nbformat_minor": 2
}
